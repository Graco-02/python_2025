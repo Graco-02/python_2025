{
 "cells": [
  {
   "cell_type": "code",
   "execution_count": 1,
   "id": "8b00fe53-b642-470b-9ed1-39f063684c08",
   "metadata": {},
   "outputs": [
    {
     "name": "stdout",
     "output_type": "stream",
     "text": [
      "hola perros\n"
     ]
    }
   ],
   "source": [
    "print(\"hola perros\")"
   ]
  },
  {
   "cell_type": "code",
   "execution_count": 3,
   "id": "386d20d2-0324-44fc-8b54-f9accbdd023c",
   "metadata": {},
   "outputs": [
    {
     "data": {
      "text/plain": [
       "4"
      ]
     },
     "execution_count": 3,
     "metadata": {},
     "output_type": "execute_result"
    }
   ],
   "source": [
    "2*2\n"
   ]
  },
  {
   "cell_type": "code",
   "execution_count": 4,
   "id": "e0591560-89c1-45a4-b0d8-a8925e74fbb8",
   "metadata": {},
   "outputs": [],
   "source": [
    "import time\n"
   ]
  },
  {
   "cell_type": "code",
   "execution_count": 9,
   "id": "604652bf-8a9e-4df1-8442-2f3f0c1c9c4e",
   "metadata": {},
   "outputs": [
    {
     "name": "stdout",
     "output_type": "stream",
     "text": [
      "ya pasaron 3s\n"
     ]
    }
   ],
   "source": [
    "time.sleep(3);\n",
    "print(\"ya pasaron 3s\");"
   ]
  },
  {
   "cell_type": "markdown",
   "id": "8a6ff89d-b17e-48df-b00d-ad847eccb801",
   "metadata": {},
   "source": [
    "# TIPOS DE DATOS PYTHON"
   ]
  },
  {
   "cell_type": "markdown",
   "id": "03f2425b-dfce-4186-8701-f649bae0f561",
   "metadata": {},
   "source": [
    "## String"
   ]
  },
  {
   "cell_type": "markdown",
   "id": "d4d8d27c-0068-4734-89aa-e5069be1df54",
   "metadata": {},
   "source": [
    "y = 'Hello world'"
   ]
  },
  {
   "cell_type": "code",
   "execution_count": 10,
   "id": "95232b15-db86-4e5d-a098-419cf2715cb5",
   "metadata": {},
   "outputs": [
    {
     "data": {
      "text/plain": [
       "str"
      ]
     },
     "execution_count": 10,
     "metadata": {},
     "output_type": "execute_result"
    }
   ],
   "source": [
    "type(y)"
   ]
  },
  {
   "cell_type": "code",
   "execution_count": 11,
   "id": "267e1947-3207-405d-bd05-cb56b702d5a3",
   "metadata": {},
   "outputs": [
    {
     "name": "stdout",
     "output_type": "stream",
     "text": [
      "Hello world\n"
     ]
    }
   ],
   "source": [
    "print(y)"
   ]
  },
  {
   "cell_type": "markdown",
   "id": "136c2fc4-2cc2-41a1-9b0c-8df3f698c13c",
   "metadata": {},
   "source": [
    "# Integer"
   ]
  },
  {
   "cell_type": "code",
   "execution_count": 12,
   "id": "fdb1f1cc-febf-42b1-b858-a86df84efd88",
   "metadata": {},
   "outputs": [],
   "source": [
    "x = 5"
   ]
  },
  {
   "cell_type": "code",
   "execution_count": 13,
   "id": "21f03e0d-e603-4861-b810-ca9586fd2af4",
   "metadata": {},
   "outputs": [
    {
     "data": {
      "text/plain": [
       "int"
      ]
     },
     "execution_count": 13,
     "metadata": {},
     "output_type": "execute_result"
    }
   ],
   "source": [
    "type(x)"
   ]
  },
  {
   "cell_type": "code",
   "execution_count": 14,
   "id": "7d9725a1-f4a0-4ddb-840f-a37b24205cee",
   "metadata": {},
   "outputs": [
    {
     "name": "stdout",
     "output_type": "stream",
     "text": [
      "5\n"
     ]
    }
   ],
   "source": [
    "print(x)"
   ]
  },
  {
   "cell_type": "code",
   "execution_count": 15,
   "id": "ac65f901-66c6-47a1-bb74-d9f3c827a7ad",
   "metadata": {},
   "outputs": [],
   "source": [
    "x = -10"
   ]
  },
  {
   "cell_type": "code",
   "execution_count": 16,
   "id": "a6df61d2-e06d-4b0f-8d88-ae95865fbba8",
   "metadata": {},
   "outputs": [
    {
     "data": {
      "text/plain": [
       "int"
      ]
     },
     "execution_count": 16,
     "metadata": {},
     "output_type": "execute_result"
    }
   ],
   "source": [
    "type(x)"
   ]
  },
  {
   "cell_type": "markdown",
   "id": "9ae54a44-d35f-424d-b3bc-7ef20742e69c",
   "metadata": {},
   "source": [
    "# Float"
   ]
  },
  {
   "cell_type": "code",
   "execution_count": 17,
   "id": "92a51a54-044a-474f-bf55-decf3a955efd",
   "metadata": {},
   "outputs": [],
   "source": [
    "f = 5.50"
   ]
  },
  {
   "cell_type": "code",
   "execution_count": 19,
   "id": "e2d21f5c-d5a3-4719-b8bc-ea16e052386b",
   "metadata": {},
   "outputs": [
    {
     "data": {
      "text/plain": [
       "float"
      ]
     },
     "execution_count": 19,
     "metadata": {},
     "output_type": "execute_result"
    }
   ],
   "source": [
    "type(f)"
   ]
  },
  {
   "cell_type": "code",
   "execution_count": 20,
   "id": "65e5f925-2e65-43aa-912b-9377d639a268",
   "metadata": {},
   "outputs": [
    {
     "name": "stdout",
     "output_type": "stream",
     "text": [
      "5.5\n"
     ]
    }
   ],
   "source": [
    "print(f)"
   ]
  },
  {
   "cell_type": "markdown",
   "id": "75e2fd27-7eb2-4a35-8ae7-484a3593c9de",
   "metadata": {},
   "source": [
    "# BOOLEAN"
   ]
  },
  {
   "cell_type": "code",
   "execution_count": 23,
   "id": "7d29020a-7fac-47e0-8e94-fee0e01a1152",
   "metadata": {},
   "outputs": [],
   "source": [
    "a = True;\n",
    "b = False;"
   ]
  },
  {
   "cell_type": "code",
   "execution_count": 27,
   "id": "c4ee880d-7177-4841-8236-6fa84d1c4372",
   "metadata": {},
   "outputs": [
    {
     "data": {
      "text/plain": [
       "bool"
      ]
     },
     "execution_count": 27,
     "metadata": {},
     "output_type": "execute_result"
    }
   ],
   "source": [
    "type(a)"
   ]
  },
  {
   "cell_type": "code",
   "execution_count": 28,
   "id": "45ec3b87-4439-4dc7-949e-58a9ee925843",
   "metadata": {},
   "outputs": [
    {
     "data": {
      "text/plain": [
       "bool"
      ]
     },
     "execution_count": 28,
     "metadata": {},
     "output_type": "execute_result"
    }
   ],
   "source": [
    "type(b)"
   ]
  },
  {
   "cell_type": "code",
   "execution_count": 29,
   "id": "38a9b365-bbfb-4985-8b3e-a46d8ace2192",
   "metadata": {},
   "outputs": [
    {
     "data": {
      "text/plain": [
       "True"
      ]
     },
     "execution_count": 29,
     "metadata": {},
     "output_type": "execute_result"
    }
   ],
   "source": [
    "a"
   ]
  },
  {
   "cell_type": "code",
   "execution_count": 30,
   "id": "88e445ce-1086-4308-81ff-17ea36fdf31e",
   "metadata": {},
   "outputs": [
    {
     "data": {
      "text/plain": [
       "False"
      ]
     },
     "execution_count": 30,
     "metadata": {},
     "output_type": "execute_result"
    }
   ],
   "source": [
    "b"
   ]
  },
  {
   "cell_type": "code",
   "execution_count": 31,
   "id": "31140bac-a054-4697-875a-50f5a9c15e82",
   "metadata": {},
   "outputs": [
    {
     "data": {
      "text/plain": [
       "1"
      ]
     },
     "execution_count": 31,
     "metadata": {},
     "output_type": "execute_result"
    }
   ],
   "source": [
    "a+b"
   ]
  },
  {
   "cell_type": "markdown",
   "id": "6b2439cb-d8a5-4227-9102-0d800384fff1",
   "metadata": {},
   "source": [
    "# Variables"
   ]
  },
  {
   "cell_type": "markdown",
   "id": "6d930d51-aa2e-414b-8ceb-b755c8e23f5d",
   "metadata": {},
   "source": [
    "## Python es sencitivo a las mayusculas es decir x y X son dos variables distitas"
   ]
  },
  {
   "cell_type": "markdown",
   "id": "1b9aa2b8-bd6f-4f30-b4bb-25270d77e66c",
   "metadata": {},
   "source": [
    "# Operadores matematicos Pyhon\n"
   ]
  },
  {
   "cell_type": "markdown",
   "id": "861967ae-c3ef-49a0-9cd6-931ab03554de",
   "metadata": {},
   "source": [
    "## | + - | / |* | **(x)- potencia a la x | "
   ]
  },
  {
   "cell_type": "code",
   "execution_count": 32,
   "id": "a09d84da-0638-4d09-a5ef-71a01a974cfe",
   "metadata": {},
   "outputs": [],
   "source": [
    "x = 5"
   ]
  },
  {
   "cell_type": "code",
   "execution_count": 33,
   "id": "0cf39b81-c09a-4066-8c0e-e0641f95c807",
   "metadata": {},
   "outputs": [],
   "source": [
    "y = 2.5"
   ]
  },
  {
   "cell_type": "code",
   "execution_count": 34,
   "id": "10dfbc5a-04a5-43c4-a4de-8ae5e75e8174",
   "metadata": {},
   "outputs": [
    {
     "data": {
      "text/plain": [
       "25"
      ]
     },
     "execution_count": 34,
     "metadata": {},
     "output_type": "execute_result"
    }
   ],
   "source": [
    "x**2"
   ]
  },
  {
   "cell_type": "code",
   "execution_count": 35,
   "id": "300dd68e-ed25-4013-a6dc-df0b044ff87f",
   "metadata": {},
   "outputs": [
    {
     "data": {
      "text/plain": [
       "15.625"
      ]
     },
     "execution_count": 35,
     "metadata": {},
     "output_type": "execute_result"
    }
   ],
   "source": [
    "y**3"
   ]
  },
  {
   "cell_type": "markdown",
   "id": "6a328837-4f81-4817-b73b-e859584b294c",
   "metadata": {},
   "source": [
    "### redondea a 2 posiciones"
   ]
  },
  {
   "cell_type": "code",
   "execution_count": 39,
   "id": "d17cab98-4ef2-4aea-9942-918837a21a91",
   "metadata": {},
   "outputs": [
    {
     "data": {
      "text/plain": [
       "15.62"
      ]
     },
     "execution_count": 39,
     "metadata": {},
     "output_type": "execute_result"
    }
   ],
   "source": [
    "round(y**3,2) "
   ]
  },
  {
   "cell_type": "code",
   "execution_count": 40,
   "id": "f2b2fe11-541b-4a27-b6ed-8f19261870bc",
   "metadata": {},
   "outputs": [
    {
     "data": {
      "text/plain": [
       "\u001b[1;31mSignature:\u001b[0m \u001b[0mround\u001b[0m\u001b[1;33m(\u001b[0m\u001b[0mnumber\u001b[0m\u001b[1;33m,\u001b[0m \u001b[0mndigits\u001b[0m\u001b[1;33m=\u001b[0m\u001b[1;32mNone\u001b[0m\u001b[1;33m)\u001b[0m\u001b[1;33m\u001b[0m\u001b[1;33m\u001b[0m\u001b[0m\n",
       "\u001b[1;31mDocstring:\u001b[0m\n",
       "Round a number to a given precision in decimal digits.\n",
       "\n",
       "The return value is an integer if ndigits is omitted or None.  Otherwise\n",
       "the return value has the same type as the number.  ndigits may be negative.\n",
       "\u001b[1;31mType:\u001b[0m      builtin_function_or_method"
      ]
     },
     "metadata": {},
     "output_type": "display_data"
    }
   ],
   "source": [
    "?round"
   ]
  },
  {
   "cell_type": "code",
   "execution_count": 43,
   "id": "b96caa09-6c02-4f44-8451-9b6d11865a99",
   "metadata": {},
   "outputs": [
    {
     "data": {
      "text/plain": [
       "\u001b[1;31mSignature:\u001b[0m \u001b[0msum\u001b[0m\u001b[1;33m(\u001b[0m\u001b[0miterable\u001b[0m\u001b[1;33m,\u001b[0m \u001b[1;33m/\u001b[0m\u001b[1;33m,\u001b[0m \u001b[0mstart\u001b[0m\u001b[1;33m=\u001b[0m\u001b[1;36m0\u001b[0m\u001b[1;33m)\u001b[0m\u001b[1;33m\u001b[0m\u001b[1;33m\u001b[0m\u001b[0m\n",
       "\u001b[1;31mDocstring:\u001b[0m\n",
       "Return the sum of a 'start' value (default: 0) plus an iterable of numbers\n",
       "\n",
       "When the iterable is empty, return the start value.\n",
       "This function is intended specifically for use with numeric values and may\n",
       "reject non-numeric types.\n",
       "\u001b[1;31mType:\u001b[0m      builtin_function_or_method"
      ]
     },
     "metadata": {},
     "output_type": "display_data"
    }
   ],
   "source": [
    "?sum\n",
    "\n"
   ]
  },
  {
   "cell_type": "markdown",
   "id": "92aa6de3-f915-47a2-a6ee-cd58fad8ff27",
   "metadata": {},
   "source": [
    "# Concatenacion de string se hace String + String"
   ]
  },
  {
   "cell_type": "markdown",
   "id": "c4e5bffb-8f15-4383-a315-202e75524508",
   "metadata": {},
   "source": [
    "# S&P 500\n"
   ]
  },
  {
   "cell_type": "markdown",
   "id": "604dc411-6f68-47be-bf49-8b58c00909b4",
   "metadata": {},
   "source": [
    "## Returns 7% al anio"
   ]
  },
  {
   "cell_type": "code",
   "execution_count": 49,
   "id": "f079a232-c9bc-49ca-80a6-3cc40438f432",
   "metadata": {},
   "outputs": [],
   "source": [
    "invercion = 1000"
   ]
  },
  {
   "cell_type": "code",
   "execution_count": 58,
   "id": "18967bc4-81b5-4b21-b105-651a01e8af57",
   "metadata": {},
   "outputs": [],
   "source": [
    "year = 10"
   ]
  },
  {
   "cell_type": "code",
   "execution_count": 61,
   "id": "dda3f847-4e99-4ce3-8d10-90c2b7675d2b",
   "metadata": {},
   "outputs": [],
   "source": [
    "resultado = invercion * (1.07**year)\n"
   ]
  },
  {
   "cell_type": "code",
   "execution_count": 62,
   "id": "cba21c12-99ce-4145-bf2a-1d80271b07ad",
   "metadata": {},
   "outputs": [
    {
     "data": {
      "text/plain": [
       "1967.1513572895665"
      ]
     },
     "execution_count": 62,
     "metadata": {},
     "output_type": "execute_result"
    }
   ],
   "source": [
    "resultado"
   ]
  },
  {
   "cell_type": "code",
   "execution_count": 66,
   "id": "a8ae9a35-baf0-404e-bc11-488d0356996e",
   "metadata": {},
   "outputs": [
    {
     "name": "stdout",
     "output_type": "stream",
     "text": [
      "He invertido 1000 y he ganado 1967.1513572895665 en un anio\n"
     ]
    }
   ],
   "source": [
    "print(\"He invertido \" + str(invercion) + \" y he ganado \" + str(resultado) + \" en un anio\")"
   ]
  },
  {
   "cell_type": "markdown",
   "id": "c6c31f5b-6e36-461c-9149-ac64f58542cb",
   "metadata": {},
   "source": [
    "# CASTEO DE VALORES "
   ]
  },
  {
   "cell_type": "markdown",
   "id": "cb950a05-40ff-4101-93a0-ca3371085011",
   "metadata": {},
   "source": [
    "## str(valor)  convierte a String"
   ]
  },
  {
   "cell_type": "markdown",
   "id": "9db61f73-c8ed-4dd8-a198-87229b9fa644",
   "metadata": {},
   "source": [
    "## int(valor) convierte a numero entero "
   ]
  },
  {
   "cell_type": "markdown",
   "id": "3549757e-3d42-4074-9501-2bd93b3f9cdb",
   "metadata": {},
   "source": [
    "## float(valor) convierte a numero flotante o double"
   ]
  },
  {
   "cell_type": "markdown",
   "id": "db75e54d-15fe-4a9d-b373-24c0ceba4804",
   "metadata": {},
   "source": [
    "# LISTAS lista[valor1,valor2,...valorn]"
   ]
  },
  {
   "cell_type": "code",
   "execution_count": 1,
   "id": "2d348377-042b-4e10-a160-316777e0770a",
   "metadata": {},
   "outputs": [],
   "source": [
    "edades = [15,25,21,35,99]"
   ]
  },
  {
   "cell_type": "code",
   "execution_count": 3,
   "id": "73e7b3f3-127c-4eef-9d8e-0998067380d6",
   "metadata": {},
   "outputs": [
    {
     "data": {
      "text/plain": [
       "list"
      ]
     },
     "execution_count": 3,
     "metadata": {},
     "output_type": "execute_result"
    }
   ],
   "source": [
    "type(edades)"
   ]
  },
  {
   "cell_type": "code",
   "execution_count": 4,
   "id": "739a50b4-5f71-48da-810c-2be4f1c5d5ff",
   "metadata": {},
   "outputs": [
    {
     "data": {
      "text/plain": [
       "[15, 25, 21, 35, 99]"
      ]
     },
     "execution_count": 4,
     "metadata": {},
     "output_type": "execute_result"
    }
   ],
   "source": [
    "edades"
   ]
  },
  {
   "cell_type": "markdown",
   "id": "5d9cd509-8dc5-4b77-8d90-a5edb1907f3b",
   "metadata": {},
   "source": [
    "## Manipulacion de listas"
   ]
  },
  {
   "cell_type": "code",
   "execution_count": 5,
   "id": "008e3653-a446-4de7-bd1f-edca48bcd59a",
   "metadata": {},
   "outputs": [
    {
     "data": {
      "text/plain": [
       "[15, 25, 21, 35, 99, 55, 35]"
      ]
     },
     "execution_count": 5,
     "metadata": {},
     "output_type": "execute_result"
    }
   ],
   "source": [
    "edades + [55,35]"
   ]
  },
  {
   "cell_type": "code",
   "execution_count": 6,
   "id": "6014a590-aa46-4a07-a037-caffa973d81b",
   "metadata": {},
   "outputs": [],
   "source": [
    "edades.append(75)"
   ]
  },
  {
   "cell_type": "code",
   "execution_count": 7,
   "id": "327a9479-4195-4a4d-b1d3-0d592f6378bc",
   "metadata": {},
   "outputs": [
    {
     "data": {
      "text/plain": [
       "[15, 25, 21, 35, 99, 75]"
      ]
     },
     "execution_count": 7,
     "metadata": {},
     "output_type": "execute_result"
    }
   ],
   "source": [
    "edades"
   ]
  },
  {
   "cell_type": "code",
   "execution_count": 9,
   "id": "622214ee-ca44-47e9-b5a0-42ec3eac417c",
   "metadata": {},
   "outputs": [],
   "source": [
    "del(edades[-1])"
   ]
  },
  {
   "cell_type": "code",
   "execution_count": 10,
   "id": "001dd19c-f6b9-4ba6-bf7c-03404a24dc75",
   "metadata": {},
   "outputs": [
    {
     "data": {
      "text/plain": [
       "[15, 25, 21, 35, 99]"
      ]
     },
     "execution_count": 10,
     "metadata": {},
     "output_type": "execute_result"
    }
   ],
   "source": [
    "edades"
   ]
  },
  {
   "cell_type": "markdown",
   "id": "ee2d37c5-484d-40f4-901a-f4e2eb37d936",
   "metadata": {},
   "source": [
    "## Nested List"
   ]
  },
  {
   "cell_type": "code",
   "execution_count": 11,
   "id": "0c13cbd0-be29-476b-9aad-926b8867156e",
   "metadata": {},
   "outputs": [],
   "source": [
    "nested = [\n",
    "    [\"Juan\",31],\n",
    "    [\"Juanito\",25],\n",
    "    [\"Fulano\",15]\n",
    "]"
   ]
  },
  {
   "cell_type": "code",
   "execution_count": 12,
   "id": "e219ae71-12ae-4d40-b0df-a57ce82a41b5",
   "metadata": {},
   "outputs": [
    {
     "data": {
      "text/plain": [
       "['Fulano', 15]"
      ]
     },
     "execution_count": 12,
     "metadata": {},
     "output_type": "execute_result"
    }
   ],
   "source": [
    "nested[-1]"
   ]
  },
  {
   "cell_type": "code",
   "execution_count": 14,
   "id": "51b57f9d-0997-43c6-abf7-cdb343e2a391",
   "metadata": {},
   "outputs": [
    {
     "data": {
      "text/plain": [
       "'Juan'"
      ]
     },
     "execution_count": 14,
     "metadata": {},
     "output_type": "execute_result"
    }
   ],
   "source": [
    "nested[0][0]"
   ]
  },
  {
   "cell_type": "code",
   "execution_count": 15,
   "id": "1b40c666-3bdf-421a-8461-f264cb8dee10",
   "metadata": {},
   "outputs": [
    {
     "data": {
      "text/plain": [
       "31"
      ]
     },
     "execution_count": 15,
     "metadata": {},
     "output_type": "execute_result"
    }
   ],
   "source": [
    "nested[0][1]"
   ]
  },
  {
   "cell_type": "code",
   "execution_count": 17,
   "id": "7024858a-2705-4a56-9e33-b9b64004cb33",
   "metadata": {},
   "outputs": [
    {
     "data": {
      "text/plain": [
       "5"
      ]
     },
     "execution_count": 17,
     "metadata": {},
     "output_type": "execute_result"
    }
   ],
   "source": [
    "len(edades)"
   ]
  },
  {
   "cell_type": "code",
   "execution_count": 18,
   "id": "7a3488c5-716e-4578-adfd-7c9c92480b2c",
   "metadata": {},
   "outputs": [
    {
     "data": {
      "text/plain": [
       "3"
      ]
     },
     "execution_count": 18,
     "metadata": {},
     "output_type": "execute_result"
    }
   ],
   "source": [
    "len(nested)"
   ]
  },
  {
   "cell_type": "markdown",
   "id": "9a14e6a1-f771-4243-a6f1-0e33b1356880",
   "metadata": {},
   "source": [
    "## creando una copia"
   ]
  },
  {
   "cell_type": "code",
   "execution_count": 21,
   "id": "39f1cff1-8751-4024-9a3f-2a8f9467ccae",
   "metadata": {},
   "outputs": [],
   "source": [
    "z = edades[:]+nested[:]"
   ]
  },
  {
   "cell_type": "code",
   "execution_count": 22,
   "id": "7a70104a-4126-4bea-9a7b-e76970acab81",
   "metadata": {},
   "outputs": [
    {
     "data": {
      "text/plain": [
       "[15, 25, 21, 35, 99, ['Juan', 31], ['Juanito', 25], ['Fulano', 15]]"
      ]
     },
     "execution_count": 22,
     "metadata": {},
     "output_type": "execute_result"
    }
   ],
   "source": [
    "z"
   ]
  },
  {
   "cell_type": "markdown",
   "id": "02464889-12eb-4df6-a9b6-f4a669b91b1e",
   "metadata": {},
   "source": [
    "# TUPLAS"
   ]
  },
  {
   "cell_type": "markdown",
   "id": "9fab7094-20b1-4aac-b9d9-5ae47fb0e84d",
   "metadata": {},
   "source": [
    "tupla1 = (\"a\",\"b\",\"c\")"
   ]
  },
  {
   "cell_type": "code",
   "execution_count": 2,
   "id": "4ab9691d-322e-4616-b092-13fe08e19742",
   "metadata": {},
   "outputs": [],
   "source": [
    "tupla1 = (\"a\",\"b\",\"c\")"
   ]
  },
  {
   "cell_type": "code",
   "execution_count": 3,
   "id": "3d245fbe-9a3c-4505-9f5d-0972f9f8e489",
   "metadata": {
    "scrolled": true
   },
   "outputs": [
    {
     "data": {
      "text/plain": [
       "tuple"
      ]
     },
     "execution_count": 3,
     "metadata": {},
     "output_type": "execute_result"
    }
   ],
   "source": [
    "type(tupla1)"
   ]
  },
  {
   "cell_type": "markdown",
   "id": "bd0ae780-523b-4831-bc66-cc9d33fae698",
   "metadata": {},
   "source": [
    "# SETS"
   ]
  },
  {
   "cell_type": "code",
   "execution_count": 4,
   "id": "226df5b5-e9c2-45ff-856c-5465a7b8f998",
   "metadata": {},
   "outputs": [],
   "source": [
    "set1 = {\"a\",\"b\",\"c\"}"
   ]
  },
  {
   "cell_type": "code",
   "execution_count": 5,
   "id": "3cb48d1d-c1d3-429b-a8d6-a01ae5e057ec",
   "metadata": {},
   "outputs": [
    {
     "data": {
      "text/plain": [
       "set"
      ]
     },
     "execution_count": 5,
     "metadata": {},
     "output_type": "execute_result"
    }
   ],
   "source": [
    "type(set1)"
   ]
  },
  {
   "cell_type": "markdown",
   "id": "3c2f8a97-6f5b-4087-8d8e-904e8b5b4777",
   "metadata": {},
   "source": [
    "## acciones set1.add('valor') set1.remove('valor')"
   ]
  },
  {
   "cell_type": "markdown",
   "id": "8637afd5-0053-448b-83d8-20a5753bb264",
   "metadata": {},
   "source": [
    "# DICIONARIOS"
   ]
  },
  {
   "cell_type": "code",
   "execution_count": 3,
   "id": "5d290489-7bb4-4804-a8bf-622c9836b16e",
   "metadata": {},
   "outputs": [],
   "source": [
    "cicudades = [\"RD\",\"USA\",\"HAYTI\",\"PR\"]"
   ]
  },
  {
   "cell_type": "code",
   "execution_count": 4,
   "id": "28705929-1cf3-4f0c-9d62-a4fdb1aa210a",
   "metadata": {},
   "outputs": [],
   "source": [
    "poblaciones = [1.5,3.5,4.1,1.2]"
   ]
  },
  {
   "cell_type": "code",
   "execution_count": 5,
   "id": "c213196c-ac21-41c2-8de7-9042454a61d4",
   "metadata": {},
   "outputs": [],
   "source": [
    "dicpop = {\"RD\":1.5,\"USA\":3.4,\"HAYTI\":2.2,\"PR\":1.2}"
   ]
  },
  {
   "cell_type": "code",
   "execution_count": 6,
   "id": "46abaf84-d5c8-44d4-b81f-01f3269e4a6c",
   "metadata": {},
   "outputs": [
    {
     "data": {
      "text/plain": [
       "dict"
      ]
     },
     "execution_count": 6,
     "metadata": {},
     "output_type": "execute_result"
    }
   ],
   "source": [
    "type(dicpop)"
   ]
  },
  {
   "cell_type": "code",
   "execution_count": 8,
   "id": "34ddf136-a425-46d4-acaa-b74139aac08c",
   "metadata": {},
   "outputs": [
    {
     "data": {
      "text/plain": [
       "3.4"
      ]
     },
     "execution_count": 8,
     "metadata": {},
     "output_type": "execute_result"
    }
   ],
   "source": [
    "dicpop[\"USA\"]"
   ]
  },
  {
   "cell_type": "code",
   "execution_count": 9,
   "id": "d3025258-708b-44d9-a218-c3c169d3ade3",
   "metadata": {},
   "outputs": [],
   "source": [
    "dicpop[\"CANCUN\"]=0.9"
   ]
  },
  {
   "cell_type": "code",
   "execution_count": 10,
   "id": "9fdd784c-09e3-4ff8-9082-f16dd4ab7489",
   "metadata": {},
   "outputs": [
    {
     "data": {
      "text/plain": [
       "{'RD': 1.5, 'USA': 3.4, 'HAYTI': 2.2, 'PR': 1.2, 'CANCUN': 0.9}"
      ]
     },
     "execution_count": 10,
     "metadata": {},
     "output_type": "execute_result"
    }
   ],
   "source": [
    "dicpop"
   ]
  },
  {
   "cell_type": "markdown",
   "id": "62345338-27a3-4643-a4aa-4295cef38aac",
   "metadata": {},
   "source": [
    "## Errores python"
   ]
  },
  {
   "cell_type": "code",
   "execution_count": 3,
   "id": "406ee1c3-89c3-4eb0-be9e-0b6bd0eefd46",
   "metadata": {},
   "outputs": [],
   "source": [
    "nested1 = []\n"
   ]
  },
  {
   "cell_type": "code",
   "execution_count": 4,
   "id": "3f4eef50-17cc-4dd9-a6b2-1487c7ecd256",
   "metadata": {},
   "outputs": [
    {
     "data": {
      "text/plain": [
       "list"
      ]
     },
     "execution_count": 4,
     "metadata": {},
     "output_type": "execute_result"
    }
   ],
   "source": [
    "type(nested1)"
   ]
  },
  {
   "cell_type": "markdown",
   "id": "f15d7faf-360a-4579-a99d-afbef982e04c",
   "metadata": {},
   "source": [
    "# FUNCIONES"
   ]
  },
  {
   "cell_type": "code",
   "execution_count": 1,
   "id": "ba97d34d-8354-45ee-8053-d40a79532677",
   "metadata": {},
   "outputs": [],
   "source": [
    "def myfuncion():\n",
    "    return 1"
   ]
  },
  {
   "cell_type": "code",
   "execution_count": 2,
   "id": "5736a6dc-669b-484f-acfe-5ef13c692b32",
   "metadata": {},
   "outputs": [
    {
     "data": {
      "text/plain": [
       "1"
      ]
     },
     "execution_count": 2,
     "metadata": {},
     "output_type": "execute_result"
    }
   ],
   "source": [
    "myfuncion()"
   ]
  },
  {
   "cell_type": "code",
   "execution_count": 3,
   "id": "3c72f0f8-6b5c-4554-a573-985d053b69a4",
   "metadata": {},
   "outputs": [],
   "source": [
    "import seaborn as sbn"
   ]
  },
  {
   "cell_type": "code",
   "execution_count": 4,
   "id": "c5b9e8b0-0029-427a-b2a5-3c26186a5abe",
   "metadata": {},
   "outputs": [],
   "source": [
    "import numpy as np"
   ]
  },
  {
   "cell_type": "code",
   "execution_count": null,
   "id": "6d288e5d-71d5-487a-94be-3e1b1601aabd",
   "metadata": {},
   "outputs": [],
   "source": []
  }
 ],
 "metadata": {
  "kernelspec": {
   "display_name": "Python 3 (ipykernel)",
   "language": "python",
   "name": "python3"
  },
  "language_info": {
   "codemirror_mode": {
    "name": "ipython",
    "version": 3
   },
   "file_extension": ".py",
   "mimetype": "text/x-python",
   "name": "python",
   "nbconvert_exporter": "python",
   "pygments_lexer": "ipython3",
   "version": "3.12.9"
  }
 },
 "nbformat": 4,
 "nbformat_minor": 5
}
