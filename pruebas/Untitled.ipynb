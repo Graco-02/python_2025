{
 "cells": [
  {
   "cell_type": "code",
   "execution_count": 1,
   "id": "8b00fe53-b642-470b-9ed1-39f063684c08",
   "metadata": {},
   "outputs": [
    {
     "name": "stdout",
     "output_type": "stream",
     "text": [
      "hola perros\n"
     ]
    }
   ],
   "source": [
    "print(\"hola perros\")"
   ]
  },
  {
   "cell_type": "code",
   "execution_count": 3,
   "id": "386d20d2-0324-44fc-8b54-f9accbdd023c",
   "metadata": {},
   "outputs": [
    {
     "data": {
      "text/plain": [
       "4"
      ]
     },
     "execution_count": 3,
     "metadata": {},
     "output_type": "execute_result"
    }
   ],
   "source": [
    "2*2\n"
   ]
  },
  {
   "cell_type": "code",
   "execution_count": 4,
   "id": "e0591560-89c1-45a4-b0d8-a8925e74fbb8",
   "metadata": {},
   "outputs": [],
   "source": [
    "import time\n"
   ]
  },
  {
   "cell_type": "code",
   "execution_count": 9,
   "id": "604652bf-8a9e-4df1-8442-2f3f0c1c9c4e",
   "metadata": {},
   "outputs": [
    {
     "name": "stdout",
     "output_type": "stream",
     "text": [
      "ya pasaron 3s\n"
     ]
    }
   ],
   "source": [
    "time.sleep(3);\n",
    "print(\"ya pasaron 3s\");"
   ]
  },
  {
   "cell_type": "code",
   "execution_count": null,
   "id": "dba7b7a6-dd93-41e1-80f8-35b826335f1d",
   "metadata": {},
   "outputs": [],
   "source": []
  }
 ],
 "metadata": {
  "kernelspec": {
   "display_name": "Python 3 (ipykernel)",
   "language": "python",
   "name": "python3"
  },
  "language_info": {
   "codemirror_mode": {
    "name": "ipython",
    "version": 3
   },
   "file_extension": ".py",
   "mimetype": "text/x-python",
   "name": "python",
   "nbconvert_exporter": "python",
   "pygments_lexer": "ipython3",
   "version": "3.12.9"
  }
 },
 "nbformat": 4,
 "nbformat_minor": 5
}
