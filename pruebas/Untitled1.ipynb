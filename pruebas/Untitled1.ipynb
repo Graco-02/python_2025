{
 "cells": [
  {
   "cell_type": "code",
   "execution_count": null,
   "id": "dae4f219-4d59-4c97-9b06-37d527cb3b72",
   "metadata": {},
   "outputs": [],
   "source": []
  }
 ],
 "metadata": {
  "kernelspec": {
   "display_name": "",
   "name": ""
  },
  "language_info": {
   "name": ""
  }
 },
 "nbformat": 4,
 "nbformat_minor": 5
}
